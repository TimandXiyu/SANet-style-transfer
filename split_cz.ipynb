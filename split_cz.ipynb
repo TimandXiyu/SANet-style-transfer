{
 "cells": [
  {
   "cell_type": "code",
   "execution_count": 18,
   "metadata": {
    "collapsed": true
   },
   "outputs": [],
   "source": [
    "from glob import glob as glob\n",
    "import os\n",
    "import numpy as np\n",
    "import shutil\n",
    "from pathlib import Path"
   ]
  },
  {
   "cell_type": "code",
   "execution_count": 25,
   "outputs": [],
   "source": [
    "cz_src = glob(r'./data/cropped_cz_src/*png')\n"
   ],
   "metadata": {
    "collapsed": false,
    "pycharm": {
     "name": "#%%\n"
    }
   }
  },
  {
   "cell_type": "code",
   "execution_count": 26,
   "outputs": [],
   "source": [
    "cz_random_src = list(np.random.choice(cz_src, 100, replace=False, p=None))\n",
    "cz_random_src = list(map(lambda x: Path(x), cz_random_src))"
   ],
   "metadata": {
    "collapsed": false,
    "pycharm": {
     "name": "#%%\n"
    }
   }
  },
  {
   "cell_type": "code",
   "execution_count": 28,
   "outputs": [],
   "source": [
    "for i, path in enumerate(cz_random_src):\n",
    "    shutil.copy(path, path.parent.parent / '100_random_cz/true_img' / Path(str(i) + '.png'))\n",
    "    shutil.copy(path.parent.parent / 'cropped_cz_mask/' / Path(str(path.stem) + '.png'),\n",
    "                path.parent.parent / '100_random_cz/true_mask' / Path(str(i) + '.png'))\n",
    "    os.remove(path)\n",
    "    os.remove(path.parent.parent / 'cropped_cz_mask/' / Path(str(path.stem) + '.png'))"
   ],
   "metadata": {
    "collapsed": false,
    "pycharm": {
     "name": "#%%\n"
    }
   }
  },
  {
   "cell_type": "code",
   "execution_count": null,
   "outputs": [],
   "source": [
    "\n"
   ],
   "metadata": {
    "collapsed": false,
    "pycharm": {
     "name": "#%%\n"
    }
   }
  }
 ],
 "metadata": {
  "kernelspec": {
   "display_name": "Python 3",
   "language": "python",
   "name": "python3"
  },
  "language_info": {
   "codemirror_mode": {
    "name": "ipython",
    "version": 2
   },
   "file_extension": ".py",
   "mimetype": "text/x-python",
   "name": "python",
   "nbconvert_exporter": "python",
   "pygments_lexer": "ipython2",
   "version": "2.7.6"
  }
 },
 "nbformat": 4,
 "nbformat_minor": 0
}